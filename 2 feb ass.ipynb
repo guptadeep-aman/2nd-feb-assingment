{
 "cells": [
  {
   "cell_type": "code",
   "execution_count": 1,
   "id": "02d62591-3cd2-44b7-b3b4-6c6909303633",
   "metadata": {},
   "outputs": [
    {
     "name": "stdout",
     "output_type": "stream",
     "text": [
      "for loop:- when we want to itrates over every element in a sequence, for example\n",
      "0\n",
      "1\n",
      "2\n",
      "3\n",
      "4\n",
      "while loop:- when we want to iterate over every element untill stopping condition is met for example\n",
      "0\n",
      "1\n",
      "2\n",
      "3\n",
      "4\n"
     ]
    }
   ],
   "source": [
    "#1 explain with an example each when to use a for loop and a while loop\n",
    "print(\"for loop:- when we want to itrates over every element in a sequence, for example\")\n",
    "for i in range(5):\n",
    "    print(i)\n",
    "print(\"while loop:- when we want to iterate over every element untill stopping condition is met for example\")\n",
    "i=0\n",
    "while(i<5):\n",
    "    print(i)\n",
    "    i+=1"
   ]
  },
  {
   "cell_type": "code",
   "execution_count": 2,
   "id": "f4effcc8-b491-42fc-b04a-447bf5f01c4b",
   "metadata": {},
   "outputs": [
    {
     "name": "stdout",
     "output_type": "stream",
     "text": [
      "sum and product of first 10 natural number are 55 and 3628800 respectively\n"
     ]
    }
   ],
   "source": [
    "#2 write a python program to print the sum and product of the first 10 natural number using for and while loop\n",
    "#using for loop\n",
    "natural_sum = 0\n",
    "product = 1\n",
    "for i in range(1,11):\n",
    "    natural_sum = natural_sum + i\n",
    "    product = product*i\n",
    "print(\"sum and product of first 10 natural number are {} and {} respectively\".format(natural_sum,product))"
   ]
  },
  {
   "cell_type": "code",
   "execution_count": 3,
   "id": "5d3f22f8-407d-4d07-809b-1ae7d074f75c",
   "metadata": {},
   "outputs": [
    {
     "name": "stdout",
     "output_type": "stream",
     "text": [
      "sum and product of first 10 natural number are 55 and 3628800 respectively\n"
     ]
    }
   ],
   "source": [
    "#using while loop\n",
    "natural_sum, i = 0, 1\n",
    "product = 1\n",
    "while(i <=10):\n",
    "    natural_sum = natural_sum + i\n",
    "    product = product*i\n",
    "    i+=1\n",
    "print(\"sum and product of first 10 natural number are {} and {} respectively\".format(natural_sum,product))"
   ]
  },
  {
   "cell_type": "code",
   "execution_count": 8,
   "id": "5884d03d-e7a7-43b7-a20e-56fe1d6ffffe",
   "metadata": {},
   "outputs": [
    {
     "name": "stdin",
     "output_type": "stream",
     "text": [
      "enter the unit:  310\n"
     ]
    },
    {
     "name": "stdout",
     "output_type": "stream",
     "text": [
      "your electricity bill of this month is 2250.0\n"
     ]
    }
   ],
   "source": [
    "#3\n",
    "unit = float(input(\"enter the unit: \"))\n",
    "if(unit <= 100):\n",
    "    cost = unit*4.5\n",
    "    amount_to_pay = cost\n",
    "elif(unit<=200 and unit >100):\n",
    "    cost = 100*4.5\n",
    "    cost1 = (unit - 100)*6\n",
    "    amount_to_pay = cost + cost1\n",
    "elif(unit<=300 and unit >200):\n",
    "    cost = 100*4.5\n",
    "    cost1 = (100)*6\n",
    "    cost2 = (unit-200)*10\n",
    "    amount_to_pay = cost + cost1 + cost2\n",
    "elif(unit>300):\n",
    "    cost = 100*4.5\n",
    "    cost1 = (100)*6\n",
    "    cost2 = 100*10\n",
    "    cost3 = (unit - 300)*20\n",
    "    amount_to_pay = cost + cost1 + cost2 + cost3\n",
    "print(\"your electricity bill of this month is\", amount_to_pay) "
   ]
  },
  {
   "cell_type": "code",
   "execution_count": 5,
   "id": "7814fa86-f62e-4198-ac46-e3063cc4026a",
   "metadata": {},
   "outputs": [
    {
     "name": "stdout",
     "output_type": "stream",
     "text": [
      "[2, 4, 5, 6, 8, 10, 12, 14, 15, 16, 18, 20, 22, 24, 25, 26, 28, 30, 32, 34, 35, 36, 38, 40, 42, 44, 45, 46, 48, 50, 52, 54, 55, 56, 58, 60, 62, 64, 65, 66, 68, 70, 72, 74, 75, 76, 78, 80, 82, 84, 85, 86, 88, 90, 92, 94, 95, 96, 98, 100]\n"
     ]
    }
   ],
   "source": [
    "#4 using for loop\n",
    "my_lst = list(range(1,101))\n",
    "lst1 = []\n",
    "for i in my_lst:\n",
    "    p = i**3\n",
    "    if( p% 4==0 or p% 5==0):\n",
    "        lst1.append(i)\n",
    "print(lst1)"
   ]
  },
  {
   "cell_type": "code",
   "execution_count": 6,
   "id": "657196c9-72b0-4a44-a477-89c1cae80dc2",
   "metadata": {},
   "outputs": [
    {
     "name": "stdout",
     "output_type": "stream",
     "text": [
      "[2, 4, 5, 6, 8, 10, 12, 14, 15, 16, 18, 20, 22, 24, 25, 26, 28, 30, 32, 34, 35, 36, 38, 40, 42, 44, 45, 46, 48, 50, 52, 54, 55, 56, 58, 60, 62, 64, 65, 66, 68, 70, 72, 74, 75, 76, 78, 80, 82, 84, 85, 86, 88, 90, 92, 94, 95, 96, 98, 100]\n"
     ]
    }
   ],
   "source": [
    "using \n",
    "i = 1\n",
    "lst2 = []\n",
    "while(i<=100):\n",
    "    if( pow(i,3) % 4 == 0 or pow(i,3) % 5 == 0):\n",
    "        lst2.append(i)\n",
    "    i = i +1\n",
    "print(lst2)"
   ]
  },
  {
   "cell_type": "code",
   "execution_count": 7,
   "id": "adaf5749-7bfc-4099-9dfc-1cf24300119d",
   "metadata": {},
   "outputs": [
    {
     "name": "stdout",
     "output_type": "stream",
     "text": [
      "12\n"
     ]
    }
   ],
   "source": [
    "#5 \n",
    "string = \"I want to become a data scientist\"\n",
    "string = string.lower()\n",
    "count = 0\n",
    "for item in string:\n",
    "    if(item == 'a' or item=='e' or item=='i' or item =='o' or item == 'u'):\n",
    "        count += 1\n",
    "print(count)\n",
    "        "
   ]
  },
  {
   "cell_type": "code",
   "execution_count": null,
   "id": "63cd17ff-800a-445f-b14b-6445acbc9c90",
   "metadata": {},
   "outputs": [],
   "source": []
  }
 ],
 "metadata": {
  "kernelspec": {
   "display_name": "Python 3 (ipykernel)",
   "language": "python",
   "name": "python3"
  },
  "language_info": {
   "codemirror_mode": {
    "name": "ipython",
    "version": 3
   },
   "file_extension": ".py",
   "mimetype": "text/x-python",
   "name": "python",
   "nbconvert_exporter": "python",
   "pygments_lexer": "ipython3",
   "version": "3.10.8"
  }
 },
 "nbformat": 4,
 "nbformat_minor": 5
}
